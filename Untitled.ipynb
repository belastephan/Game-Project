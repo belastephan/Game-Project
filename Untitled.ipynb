{
 "cells": [
  {
   "cell_type": "markdown",
   "id": "3e9b141c",
   "metadata": {},
   "source": [
    "**GAME – Par ou Ímpar (Odds or Evens)**\n",
    "1. Cria uma variável do tipo dicionário com keys de 0-20 e values par e ímpar de acordo com a classificação correspondente de cada key.\n",
    "2. Usuário faz uma escolha entre quer ser par ou ímpar e escolhe um número (x) de 0-10\n",
    "3. Computador escolhe randomicamente um número entre 0-10 (y)\n",
    "4. Computador soma os dois números e apresenta o total (z)\n",
    "5. Computador classifica entre par ou ímpar através das condições abaixo\n",
    "    a.\tSe z %2==0 => par\n",
    "    b.\tSe z%!=0 =>impar\n",
    "6. Computador retorna resultado do jogo\n",
    "    a.\tSe o número correspondente ao resultado da soma de cada jogador tiver uma classificação igual a escolha do usuário, retornara a escolha e a mensagem Parabéns, você venceu\n",
    "    b.\tDo contrário, retornará “Tente novamente. Quer jogar de novo?”\n",
    "7. Criar uma variável de buleana (sim ou não)\n",
    "    a. Se o usuário quiser jogar novamente, retornara ao início do jogo\n",
    "    b. Do contrário abrir uma mensagem “Obrigada por jogar”."
   ]
  },
  {
   "cell_type": "code",
   "execution_count": 15,
   "id": "5f7048b1",
   "metadata": {},
   "outputs": [
    {
     "name": "stdout",
     "output_type": "stream",
     "text": [
      "Escolha um numero de 0-10: 5\n",
      "par ou ímpar?: par\n",
      "deu impar! tente novamente!\n"
     ]
    }
   ],
   "source": [
    "lista_par_impar={0:'par',1:'impar',2:'par',3:'impar',4:'par',5:'impar',6:'par',7:'impar',8:'par',9:'impar',10:'par'}\n",
    "\n",
    "import random\n",
    "\n",
    "x = int (input('Escolha um numero de 0-10: '))\n",
    "\n",
    "y = input(\"par ou ímpar?: \")\n",
    "\n",
    "z= random.randrange(0, 10)\n",
    "\n",
    "def game (x,z):\n",
    "    \n",
    "    w=x+z\n",
    "    \n",
    "    if (w%2==0) & (y=='par'):\n",
    "        print(\"deu par! parabens, você venceu!\")\n",
    "        \n",
    "    elif (w%2==0) & (y=='impar'):\n",
    "        print(\"deu par! tente novamente!\")\n",
    "        \n",
    "    elif (w%2!=0) & (y=='par'):\n",
    "        print(\"deu impar! tente novamente!\")\n",
    "        \n",
    "    else:\n",
    "        print(\"deu impar! parabens, você venceu!\")\n",
    "        \n",
    "game(x,z)\n",
    "    "
   ]
  },
  {
   "cell_type": "code",
   "execution_count": null,
   "id": "97da9973",
   "metadata": {},
   "outputs": [],
   "source": []
  }
 ],
 "metadata": {
  "kernelspec": {
   "display_name": "Python 3",
   "language": "python",
   "name": "python3"
  },
  "language_info": {
   "codemirror_mode": {
    "name": "ipython",
    "version": 3
   },
   "file_extension": ".py",
   "mimetype": "text/x-python",
   "name": "python",
   "nbconvert_exporter": "python",
   "pygments_lexer": "ipython3",
   "version": "3.8.8"
  }
 },
 "nbformat": 4,
 "nbformat_minor": 5
}

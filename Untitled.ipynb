{
 "cells": [
  {
   "cell_type": "markdown",
   "id": "3e9b141c",
   "metadata": {},
   "source": [
    "**GAME – Par ou Ímpar (Odds or Evens)**\n",
    "1. Cria uma variável do tipo dicionário com keys de 0-20 e values par e ímpar de acordo com a classificação correspondente de cada key.\n",
    "2. Usuário faz uma escolha entre quer ser par ou ímpar e escolhe um número (x) de 0-10\n",
    "3. Computador escolhe randomicamente um número entre 0-10 (y)\n",
    "4. Computador soma os dois números e apresenta o total (z)\n",
    "5. Computador classifica entre par ou ímpar através das condições abaixo\n",
    "    a.\tSe z %2==0 => par\n",
    "    b.\tSe z%!=0 =>impar\n",
    "6. Computador retorna resultado do jogo\n",
    "    a.\tSe o número correspondente ao resultado da soma de cada jogador tiver uma classificação igual a escolha do usuário, retornara a escolha e a mensagem Parabéns, você venceu\n",
    "    b.\tDo contrário, retornará “Tente novamente. Quer jogar de novo?”\n",
    "7. Criar uma variável de buleana (sim ou não)\n",
    "    a. Se o usuário quiser jogar novamente, retornara ao início do jogo\n",
    "    b. Do contrário abrir uma mensagem “Obrigada por jogar”."
   ]
  },
  {
   "cell_type": "code",
   "execution_count": 9,
   "id": "97da9973",
   "metadata": {},
   "outputs": [],
   "source": [
    "def verifica_game (x,y,z):\n",
    "    \n",
    "    '''This function says if you won or lost the play odds or evens.    \n",
    "   Arguments: two numbers, variable type object    \n",
    "   Retorns: Number chosen by the system, the choice of the number type (odds or evens) by the system and the result of the match.   \n",
    "   Example: game([2,5])'''\n",
    "    \n",
    "    w=x+z\n",
    "    \n",
    "    \n",
    "    if (w%2==0) & (y=='par'):\n",
    "        print(f\"resultado: A soma foi {w}, deu par! Parabéns, você venceu!\")\n",
    "        \n",
    "    elif (w%2==0) & ((y=='ímpar') | (y=='impar')):\n",
    "        print(f\"resultado: A soma foi {w}, deu par! tente novamente!\")\n",
    "        \n",
    "    elif (w%2!=0) & (y=='par'):\n",
    "        print(f\"resultado: A soma foi {w}, deu ímpar! tente novamente!\")\n",
    "        \n",
    "    else:\n",
    "        print(f\"resultado: A soma foi {w}, deu ímpar! Parabéns, você venceu!\")"
   ]
  },
  {
   "cell_type": "code",
   "execution_count": 10,
   "id": "5f7048b1",
   "metadata": {},
   "outputs": [],
   "source": [
    "def game():\n",
    "\n",
    "    import random\n",
    "\n",
    "    x = int (input('Escolha um número de 0-10: '))\n",
    "\n",
    "    y = input(\"Par ou Ímpar?: \")\n",
    "    \n",
    "    y = y.lower()\n",
    "    \n",
    "    z= random.randrange(0, 10)\n",
    "\n",
    "    print(\"Número escolhido pelo sistema:\", z)\n",
    "    \n",
    "\n",
    "    if (y == 'par'):\n",
    "        \n",
    "    \n",
    "        print(\"A escolha do sistema é ímpar\")\n",
    "    \n",
    "    else:\n",
    "    \n",
    "        print(\"A escolha do sistema é par\")\n",
    "\n",
    "    verifica_game(x,y,z)"
   ]
  },
  {
   "cell_type": "code",
   "execution_count": null,
   "id": "32d90725",
   "metadata": {},
   "outputs": [
    {
     "name": "stdout",
     "output_type": "stream",
     "text": [
      "Escolha um número de 0-10: 3\n",
      "Par ou Ímpar?: Ímpar\n",
      "Número escolhido pelo sistema: 6\n",
      "A escolha do sistema é par\n",
      "resultado: A soma foi 9, deu ímpar! Parabéns, você venceu!\n",
      "Você deseja jogar novamente? Sim ou Não:sIM\n"
     ]
    }
   ],
   "source": [
    "play=True\n",
    "\n",
    "while play==True:\n",
    "    \n",
    "    game()\n",
    "    \n",
    "    replay = input ('Você deseja jogar novamente? Sim ou Não:')\n",
    "    \n",
    "    replay = replay.lower()\n",
    "    \n",
    "    if (replay == 'sim'):\n",
    "        play=True\n",
    "    else:\n",
    "        play=False\n",
    "        print(\"Fim, obrigada pela participação!\")"
   ]
  },
  {
   "cell_type": "code",
   "execution_count": null,
   "id": "de8478ff",
   "metadata": {},
   "outputs": [],
   "source": [
    "#lista_par_impar={0:'par',1:'impar',2:'par',3:'impar',4:'par',5:'impar',6:'par',7:'impar',8:'par',9:'impar',10:'par'}\n"
   ]
  },
  {
   "cell_type": "code",
   "execution_count": null,
   "id": "1805d368",
   "metadata": {},
   "outputs": [],
   "source": []
  }
 ],
 "metadata": {
  "kernelspec": {
   "display_name": "Python 3",
   "language": "python",
   "name": "python3"
  },
  "language_info": {
   "codemirror_mode": {
    "name": "ipython",
    "version": 3
   },
   "file_extension": ".py",
   "mimetype": "text/x-python",
   "name": "python",
   "nbconvert_exporter": "python",
   "pygments_lexer": "ipython3",
   "version": "3.8.8"
  }
 },
 "nbformat": 4,
 "nbformat_minor": 5
}

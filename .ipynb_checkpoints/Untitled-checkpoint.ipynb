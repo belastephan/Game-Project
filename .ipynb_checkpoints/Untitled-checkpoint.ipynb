{
 "cells": [
  {
   "cell_type": "markdown",
   "id": "3e9b141c",
   "metadata": {},
   "source": [
    "**GAME – Par ou Ímpar ( Play Odds or Evens)**\n",
    "\n",
    "1. O usuário faz a escolha de um número (x) entre 0-10 e o tipo de número, par ou ímpar. É importante considerar que qualquer que seja o formato de digitação das palavras par e ímpar (ou seja, em maiúsculo, minúsculo com ou sem ascento) as opções sejam agrupadas correspondentemente.\n",
    "\n",
    "3. O Computador escolhe randomicamente um número entre 0-10 (y) e fica com a opção inversa ao do usuário no tipo de número (par ou ímpar).\n",
    "\n",
    "4. O computador soma os dois números (x e y) e apresenta o total (z).\n",
    "\n",
    "5. O computador classifica e apresenta a classificação (par ou ímpar). Esta classificação será feita através da operacao que divide a soma (z) por 2 e verifica se o resto é igual a zero (par) ou diferente de zero (ímpar).\n",
    "\n",
    "6. O Computador retornará o resultado do jogo com a soma e a parabenização caso o usuário tenha vencido a partida ou com a sugestão de nova tentativa de jogo caso o usuário tenha perdido a partida. Se o número correspondente ao resultado da soma de cada jogador tiver uma classificação igual a escolha da classificação do número do usuário (par ou ímpar) , o sistema retornará a escolha do usuario e uma mensagem de parabenizacao pela partida. Do contrário, retornará uma mensagem com a classificação  do numero escolhida pelo usuario (par ou impar) e a sugestao de realizar uma nova tentativa.\n",
    "\n",
    "7. Qualquer que seja o resultado da partida vigente, será aberta a opção para o usuário realizar uma nova partida caso queira. "
   ]
  },
  {
   "cell_type": "code",
   "execution_count": 2,
   "id": "97da9973",
   "metadata": {},
   "outputs": [],
   "source": [
    "def verify_game (x,y,z):\n",
    "    \n",
    "    '''This function says if you won or lost the play odds or evens. \n",
    "    Arguments: two numbers, variable type object.\n",
    "    Retorns: Number chosen by the system, the choice of the number type (odds or evens) by the system and the result of the match. \n",
    "    Example: game(2,5)'''\n",
    "    \n",
    "    w=x+z    \n",
    "        \n",
    "    if (w%2==0) & (y=='par'):\n",
    "        print(f\"resultado: A soma foi {w}, deu par! Parabéns, você venceu!\")\n",
    "        \n",
    "    elif (w%2==0) & ((y=='ímpar') | (y=='impar')):\n",
    "        print(f\"resultado: A soma foi {w}, deu par! Que pena, tente novamente!\")\n",
    "        \n",
    "    elif (w%2!=0) & (y=='par'):\n",
    "        print(f\"resultado: A soma foi {w}, deu ímpar! Que pena, tente novamente!\")\n",
    "        \n",
    "    else:\n",
    "        print(f\"resultado: A soma foi {w}, deu ímpar! Parabéns, você venceu!\")"
   ]
  },
  {
   "cell_type": "code",
   "execution_count": 3,
   "id": "5f7048b1",
   "metadata": {},
   "outputs": [],
   "source": [
    "def game():\n",
    "    \n",
    "    import random\n",
    "\n",
    "    x = int (input('Escolha um número de 0-10: '))\n",
    "\n",
    "    y = input(\"Par ou Ímpar?: \")\n",
    "    \n",
    "    y = y.lower()\n",
    "    \n",
    "    z= random.randrange(0, 10)\n",
    "\n",
    "    print(\"Número escolhido pelo sistema:\", z)\n",
    "    \n",
    "    if (y == 'par'):\n",
    "        \n",
    "            print(\"A escolha do sistema é ímpar\")\n",
    "    \n",
    "    else:\n",
    "    \n",
    "        print(\"A escolha do sistema é par\")\n",
    "\n",
    "    verify_game(x,y,z)"
   ]
  },
  {
   "cell_type": "code",
   "execution_count": null,
   "id": "5ebf6d4c",
   "metadata": {},
   "outputs": [
    {
     "name": "stdout",
     "output_type": "stream",
     "text": [
      "Escolha um número de 0-10: 3\n",
      "Par ou Ímpar?: par\n",
      "Número escolhido pelo sistema: 8\n",
      "A escolha do sistema é ímpar\n",
      "resultado: A soma foi 11, deu ímpar! Que pena, tente novamente!\n"
     ]
    }
   ],
   "source": [
    "play=True\n",
    "\n",
    "while play==True:\n",
    "    \n",
    "    game()\n",
    "    \n",
    "    replay = input ('Você deseja jogar novamente? Sim ou Não:')\n",
    "    \n",
    "    replay = replay.lower()\n",
    "    \n",
    "    if (replay == 'sim'):\n",
    "        play=True\n",
    "    else:\n",
    "        play=False\n",
    "        print(\"Fim, obrigado pela participação!\")"
   ]
  },
  {
   "cell_type": "code",
   "execution_count": null,
   "id": "92d6021e",
   "metadata": {},
   "outputs": [],
   "source": []
  },
  {
   "cell_type": "code",
   "execution_count": null,
   "id": "9cd9d440",
   "metadata": {},
   "outputs": [],
   "source": []
  }
 ],
 "metadata": {
  "kernelspec": {
   "display_name": "Python 3",
   "language": "python",
   "name": "python3"
  },
  "language_info": {
   "codemirror_mode": {
    "name": "ipython",
    "version": 3
   },
   "file_extension": ".py",
   "mimetype": "text/x-python",
   "name": "python",
   "nbconvert_exporter": "python",
   "pygments_lexer": "ipython3",
   "version": "3.8.8"
  }
 },
 "nbformat": 4,
 "nbformat_minor": 5
}
